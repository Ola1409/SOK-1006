{
 "cells": [
  {
   "cell_type": "markdown",
   "id": "154aef80-ecdb-4f3b-800c-360535d5ae10",
   "metadata": {},
   "source": [
    "# SOK-1006 V23\n",
    "\n",
    "## Arbeidskrav 3\n",
    "\n",
    "### Frist fredag 10. februar kl 18.00 i Canvas\n",
    "\n",
    "**Lever inn lenken til ditt repo på GitHub hvor løsningen ligger**. Individuell innlevering.\n",
    "\n",
    "Se Jupyter notatblokk \"Forsmak mappe 1\" for et forslag til fremgangsmåte her, og kap 9 i boka. Samt forelesning 08.02.\n",
    "\n",
    "Vi ser på markedet for oppdrettslaks på s. 101-104 i boka, og som vi har analysert i forelesning 5.      \n",
    "\n",
    "Med en stykkavgift på $t$ kr per enhet pålagt selgere kan vi skrive etterspørsel og tilbud i (1) og (2):   \n",
    "\n",
    "\n",
    "\\begin{equation}\n",
    "   x^{D}= 500 -3.2p\\tag{1}\n",
    "\\end{equation}\n",
    "\n",
    "og tilbud:\n",
    "\n",
    "\n",
    "\\begin{equation}\n",
    "   x^{S}= -100 + 4.3(p-t)\\tag{2}\n",
    "\\end{equation}\n",
    "\n",
    "1. Finn likevektspris og -kvantum for alle verdier av $t$.        \n",
    "2. Finn uttrykk for konsument- og produsentoverskudd, samt avgiftproveny.           \n",
    "2. Tegn likevekten for $t=0$ og fargelegg KO og PO.     \n",
    "2. Tegn inn likevekten for $t=4$, og fargelegg avgiftproveny.      \n",
    "4. Bruk de uttrykkene som du har laget for å fylle ut følgende tabell. NB det er mening at du skal fylle ut tabellen med uttrykk som du har regnet i koden (ikke skriv inn tall manuelt - se Forsmak mappe 1.ipynb)."
   ]
  },
  {
   "cell_type": "markdown",
   "id": "084dccba-b3e9-42fb-8f86-edaf6f019056",
   "metadata": {},
   "source": [
    "|                     | Før avgift            |Etter avgift    | Endring (etter avgift-før avgift)|\n",
    "| :-------------------| :----------------------------------------|:-------------|:---------------|\n",
    "| Konsumentpris   |     | |  |\n",
    "|Produsentpris  | |   |  |\n",
    "|Kvantum  |  |   |    |\n",
    "| Konsumentoverskudd: |  | |     |\n",
    "| Produsentoverskudd: | |  |   |\n",
    "| KO + PO:    |    | |  |\n",
    "|Skatteproveny| 0  | | |\n",
    "| Dødvektstap  |0   |   ||"
   ]
  },
  {
   "cell_type": "code",
   "execution_count": 1,
   "id": "f4aa9f91-f5f6-4c0d-8728-65bd082ac0a9",
   "metadata": {},
   "outputs": [],
   "source": [
    "import sympy as sp\n",
    "import numpy as np\n",
    "from matplotlib import pyplot as plt"
   ]
  },
  {
   "cell_type": "code",
   "execution_count": 48,
   "id": "0419d72d-7ecb-4ae1-bdc7-12123f509eef",
   "metadata": {},
   "outputs": [],
   "source": [
    "def demand(p):\n",
    "    return (500-(3.2*p))\n",
    "def supply(p,t):\n",
    "    return (-100+4.3*(p-t))"
   ]
  },
  {
   "cell_type": "code",
   "execution_count": 49,
   "id": "a6027629-e85b-4d00-bc38-7f8f0b46997c",
   "metadata": {},
   "outputs": [
    {
     "data": {
      "text/latex": [
       "$\\displaystyle 500 - 3.2 p = 4.3 p - 4.3 t - 100$"
      ],
      "text/plain": [
       "Eq(500 - 3.2*p, 4.3*p - 4.3*t - 100)"
      ]
     },
     "execution_count": 49,
     "metadata": {},
     "output_type": "execute_result"
    }
   ],
   "source": [
    "#1. Finner likevektspris og kvantum\n",
    "p,t=sp.symbols('p t', real=True, positive=True)\n",
    "equ=sp.Eq(demand(p),supply(p,t))\n",
    "equ"
   ]
  },
  {
   "cell_type": "code",
   "execution_count": 32,
   "id": "ba4faa40-56f7-4312-aeb5-af65d6ee7bf2",
   "metadata": {},
   "outputs": [
    {
     "data": {
      "text/plain": [
       "[0.573333333333333*t + 80.0]"
      ]
     },
     "execution_count": 32,
     "metadata": {},
     "output_type": "execute_result"
    }
   ],
   "source": [
    "#Pris ved likevekt\n",
    "p_eq=sp.solve(equ,p)\n",
    "p_eq"
   ]
  },
  {
   "cell_type": "code",
   "execution_count": 38,
   "id": "51ff950f-ca15-4786-9c90-868e30f763cb",
   "metadata": {},
   "outputs": [
    {
     "data": {
      "text/plain": [
       "[1.74418604651163*p - 139.53488372093]"
      ]
     },
     "execution_count": 38,
     "metadata": {},
     "output_type": "execute_result"
    }
   ],
   "source": [
    "t_eq=sp.solve(equ,t)\n",
    "t_eq"
   ]
  },
  {
   "cell_type": "code",
   "execution_count": null,
   "id": "9b6a3f94-4c7e-476e-a616-d17e017f9c66",
   "metadata": {},
   "outputs": [],
   "source": []
  },
  {
   "cell_type": "code",
   "execution_count": 55,
   "id": "a1b9421d-dac8-488d-8bbd-941d6a9d2454",
   "metadata": {},
   "outputs": [
    {
     "ename": "TypeError",
     "evalue": "unsupported operand type(s) for -: 'function' and 'Add'",
     "output_type": "error",
     "traceback": [
      "\u001b[0;31m---------------------------------------------------------------------------\u001b[0m",
      "\u001b[0;31mTypeError\u001b[0m                                 Traceback (most recent call last)",
      "Cell \u001b[0;32mIn[55], line 2\u001b[0m\n\u001b[1;32m      1\u001b[0m \u001b[38;5;66;03m#2. Produsent og konsumentoverskudd\u001b[39;00m\n\u001b[0;32m----> 2\u001b[0m producer_surplus\u001b[38;5;241m=\u001b[39m(sp\u001b[38;5;241m.\u001b[39mintegrate(\u001b[43mp_eq\u001b[49m\u001b[38;5;241;43m-\u001b[39;49m\u001b[43msupply\u001b[49m\u001b[43m(\u001b[49m\u001b[43mp\u001b[49m\u001b[43m,\u001b[49m\u001b[43mt\u001b[49m\u001b[43m)\u001b[49m,(x,\u001b[38;5;241m0\u001b[39m,p_eq)))\n\u001b[1;32m      3\u001b[0m producer_surplus\n",
      "\u001b[0;31mTypeError\u001b[0m: unsupported operand type(s) for -: 'function' and 'Add'"
     ]
    }
   ],
   "source": [
    "#2. Produsent og konsumentoverskudd\n",
    "producer_surplus=(sp.integrate(p_eq-supply(p,t),(x,0,p_eq)))\n",
    "producer_surplus"
   ]
  },
  {
   "cell_type": "code",
   "execution_count": null,
   "id": "b692da5c-0c3f-477b-9cfd-df16751a29c2",
   "metadata": {},
   "outputs": [],
   "source": []
  }
 ],
 "metadata": {
  "kernelspec": {
   "display_name": "Python 3 (ipykernel)",
   "language": "python",
   "name": "python3"
  },
  "language_info": {
   "codemirror_mode": {
    "name": "ipython",
    "version": 3
   },
   "file_extension": ".py",
   "mimetype": "text/x-python",
   "name": "python",
   "nbconvert_exporter": "python",
   "pygments_lexer": "ipython3",
   "version": "3.9.15"
  }
 },
 "nbformat": 4,
 "nbformat_minor": 5
}
